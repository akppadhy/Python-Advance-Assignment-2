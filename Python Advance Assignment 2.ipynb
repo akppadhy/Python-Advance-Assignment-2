{
 "cells": [
  {
   "cell_type": "code",
   "execution_count": null,
   "id": "8612f399-258e-4f5b-bc9c-2232848fd6df",
   "metadata": {},
   "outputs": [],
   "source": [
    "#1. What is the relationship between classes and modules?\n",
    "\n",
    "Ans. A Python class is like an outline/blueprint/mold for creating a new object. An object is anything that you wish to manipulate or change while working through the code. \n",
    "Every time a class object is instantiated, which is when we declare a variable, a new object is initiated from scratch\n",
    "\n",
    "\n",
    "Whereas in Python, Modules are simply files with the . py extension containing Python code that can be imported inside another Python Program. \n",
    "In simple terms, we can consider a module to be the same as a code library or a file that contains a set of functions/Classes that you want to include in your application."
   ]
  },
  {
   "cell_type": "code",
   "execution_count": null,
   "id": "4f379416-246a-4ff8-903e-0b8cce4097f9",
   "metadata": {},
   "outputs": [],
   "source": [
    "#2. How do you make instances and classes?\n",
    "\n",
    "Ans. For creating a class instance. we call a class by its name and pass the arguments which its __init__ method accepts.\n",
    "Example: vishwak = employee('Male',20000), Here vishwak is an instance of class employee with attriubutes 'Male' and 20000.\n",
    "\n",
    "\n",
    "Whereas for creating a class, we use the Class keyword. Class keyword is followed by classname and semicolon.\n",
    "Example: Here Employee is a class created with class keyword with arguments gender and salary.\n",
    "class Employee: def __init__(self, gender,salary): self.gender = gender self.salary = salary"
   ]
  },
  {
   "cell_type": "code",
   "execution_count": null,
   "id": "5da19c53-554a-433c-80bc-bf96a42b439f",
   "metadata": {},
   "outputs": [],
   "source": [
    "#3. Where and how should be class attributes created?\n",
    "\n",
    "Ans. Class attributes or Class level Attributes belong to the class itself. these attributes will be shared by all the instances of the class. \n",
    "Hence these attributes are usually created/defined in the top of class definiation outside all methods."
   ]
  },
  {
   "cell_type": "code",
   "execution_count": null,
   "id": "e8a876c4-716c-4688-b829-cc6d25b5f4b6",
   "metadata": {},
   "outputs": [],
   "source": [
    "#4. Where and how are instance attributes created?\n",
    "\n",
    "Ans. Instances attributes are passed to the class when an object of the class is created. \n",
    "Unlike class attributes, instance attributes are not shared by all objects of the classs. instead each object maintains its own copy of instance attributes at object level. whereas incase of class attributes all instances of class refer to a single copy. Usually instance attributes are defined within the __init__ method of class\n",
    "\n",
    "\n",
    "Example: In the below sample code we are creating a class Car with instance varaibles color, price, engine, which will be provided when an instance of class Car is created.\n",
    "class Car: def __init__(self,color,price,engine): self.color = color # All this are instance attributes self.price = price self.engine = engine\n",
    "\n",
    "nexon_ev = Car('Indigo Blue', 1400000, 'electric')\n",
    "safari = Car('Pearl White',2100000, 'petrol')\n",
    "\n",
    "nexon_ev, safari are both the instances of class Car with different instance variables."
   ]
  },
  {
   "cell_type": "code",
   "execution_count": null,
   "id": "6bb9c99a-1270-45ec-be92-66affd599bfa",
   "metadata": {},
   "outputs": [],
   "source": [
    "#5. What does the term \"self\" in a Python class mean?\n",
    "\n",
    "Ans. self represents the instance of the class (it represents the object itself). \n",
    "By using the “self” keyword we can access the attributes and methods of the class with in the class in python. \n",
    "It binds the attributes with the given arguments."
   ]
  },
  {
   "cell_type": "code",
   "execution_count": null,
   "id": "6fe2652a-02bd-4657-a160-4ebeba8aac5f",
   "metadata": {},
   "outputs": [],
   "source": [
    "#6. How does a Python class handle operator overloading?\n",
    "\n",
    "Ans. Python Classes handle operator overloading by using special methods called Magic methods. these special methods usually begin and end with __ (double underscore)\n",
    "Example: Magic methods for basic arithmetic operators are:\n",
    "\n",
    "+ -> __add__()\n",
    "- -> __sub__()\n",
    "* -> __mul__()\n",
    "/ -> __div__()"
   ]
  },
  {
   "cell_type": "code",
   "execution_count": 1,
   "id": "f5be50bf-e658-42cf-b146-ecce01e7aeea",
   "metadata": {},
   "outputs": [
    {
     "name": "stdout",
     "output_type": "stream",
     "text": [
      "The total number of pages in 2 books is 300\n"
     ]
    }
   ],
   "source": [
    "class Book:\n",
    "    def __init__(self,pages):\n",
    "        self.pages = pages\n",
    "    def __add__(self,other):\n",
    "        return self.pages + other.pages\n",
    "b1 = Book(100)\n",
    "b2 = Book(200)\n",
    "print(f'The total number of pages in 2 books is {b1+b2}')"
   ]
  },
  {
   "cell_type": "code",
   "execution_count": null,
   "id": "d089da65-79a4-4a3a-9efd-0efe0bf48221",
   "metadata": {},
   "outputs": [],
   "source": [
    "#7.  When do you consider allowing operator overloading of your classes?\n",
    "\n",
    "Ans. When we want to have different meaning for the same operator accroding to the context we use operator overloading."
   ]
  },
  {
   "cell_type": "code",
   "execution_count": null,
   "id": "9f33ce27-7e17-40ce-9992-34230fd204ca",
   "metadata": {},
   "outputs": [],
   "source": [
    "#8. What is the most popular form of operator overloading?\n",
    "\n",
    "Ans. The most popular form of operator overloading in python is by special methods called Magic methods. \n",
    "Which usually beign and end with double underscore __<method name>__."
   ]
  },
  {
   "cell_type": "code",
   "execution_count": null,
   "id": "bd32dab5-1bc7-4db1-81d0-6e5d7f9ed50a",
   "metadata": {},
   "outputs": [],
   "source": [
    "#9. What are the two most important concepts to grasp in order to comprehend Python OOP code?\n",
    "\n",
    "Ans. Classes and objects are the two concepts to comprehend python OOP code as more formally objects are entities that represent instances of general abstract concept called class\n",
    "\n",
    "Along with classes and objects the important concepts to grasp are:\n",
    "\n",
    "Inheritence\n",
    "Abstraction\n",
    "Polymorphism\n",
    "Encapsulation"
   ]
  }
 ],
 "metadata": {
  "kernelspec": {
   "display_name": "Python 3 (ipykernel)",
   "language": "python",
   "name": "python3"
  },
  "language_info": {
   "codemirror_mode": {
    "name": "ipython",
    "version": 3
   },
   "file_extension": ".py",
   "mimetype": "text/x-python",
   "name": "python",
   "nbconvert_exporter": "python",
   "pygments_lexer": "ipython3",
   "version": "3.10.6"
  }
 },
 "nbformat": 4,
 "nbformat_minor": 5
}
